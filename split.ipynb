{
 "cells": [
  {
   "cell_type": "code",
   "execution_count": 4,
   "metadata": {},
   "outputs": [],
   "source": [
    "import glob\n",
    "import shutil\n",
    "import os\n"
   ]
  },
  {
   "cell_type": "code",
   "execution_count": 5,
   "metadata": {},
   "outputs": [],
   "source": [
    "src_dir = \"images/train\"\n",
    "dst_dir = \"labels/train_labels\"\n",
    "for file in glob.iglob(os.path.join(src_dir, \"*.txt\")):\n",
    "    shutil.copy(file, dst_dir)\n",
    "\n",
    "removing_files = glob.glob('images/train/*.txt')\n",
    "for i in removing_files:\n",
    "    os.remove(i)"
   ]
  },
  {
   "cell_type": "code",
   "execution_count": 6,
   "metadata": {},
   "outputs": [],
   "source": [
    "src_dir = \"images/test\"\n",
    "dst_dir = \"labels/test_labels\"\n",
    "for file in glob.iglob(os.path.join(src_dir, \"*.txt\")):\n",
    "    shutil.copy(file, dst_dir)\n",
    "\n",
    "removing_files = glob.glob('images/test/*.txt')\n",
    "for i in removing_files:\n",
    "    os.remove(i)"
   ]
  },
  {
   "cell_type": "code",
   "execution_count": 7,
   "metadata": {},
   "outputs": [],
   "source": [
    "src_dir = \"images/valid\"\n",
    "dst_dir = \"labels/valid_labels\"\n",
    "for file in glob.iglob(os.path.join(src_dir, \"*.txt\")):\n",
    "    shutil.copy(file, dst_dir)\n",
    "\n",
    "removing_files = glob.glob('images/valid/*.txt')\n",
    "for i in removing_files:\n",
    "    os.remove(i)"
   ]
  }
 ],
 "metadata": {
  "kernelspec": {
   "display_name": "Python 3.9.7 64-bit",
   "language": "python",
   "name": "python3"
  },
  "language_info": {
   "codemirror_mode": {
    "name": "ipython",
    "version": 3
   },
   "file_extension": ".py",
   "mimetype": "text/x-python",
   "name": "python",
   "nbconvert_exporter": "python",
   "pygments_lexer": "ipython3",
   "version": "3.9.7"
  },
  "orig_nbformat": 4,
  "vscode": {
   "interpreter": {
    "hash": "5be68d05c0a37fd7c0a0af3cf8ce1676254933d508887bcf3607e1d92fa924d8"
   }
  }
 },
 "nbformat": 4,
 "nbformat_minor": 2
}
