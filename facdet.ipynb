{
 "cells": [
  {
   "cell_type": "code",
   "execution_count": 25,
   "metadata": {},
   "outputs": [
    {
     "name": "stdout",
     "output_type": "stream",
     "text": [
      "c:\\Users\\EBIN\\OneDrive\\Documents\\GitHub\\Face_mask_detection\\yolov5\\yolov5\\yolov5\n"
     ]
    },
    {
     "name": "stderr",
     "output_type": "stream",
     "text": [
      "Cloning into 'yolov5'...\n"
     ]
    }
   ],
   "source": [
    "import torch # Keep in mind that YOLOv5 runs on top of PyTorch, so we need to import it to the notebook\n",
    "\n",
    "from IPython.display import Image #this is to render predictions\n",
    "\n",
    "!git clone https://github.com/ultralytics/yolov5\n",
    "%cd yolov5\n",
    "#!pip install -qr requirements.txt"
   ]
  },
  {
   "cell_type": "code",
   "execution_count": 26,
   "metadata": {},
   "outputs": [
    {
     "name": "stdout",
     "output_type": "stream",
     "text": [
      "Requirement already satisfied: matplotlib>=3.2.2 in c:\\users\\ebin\\appdata\\local\\programs\\python\\python39\\lib\\site-packages (from -r requirements.txt (line 5)) (3.5.3)\n",
      "Requirement already satisfied: numpy>=1.18.5 in c:\\users\\ebin\\appdata\\local\\programs\\python\\python39\\lib\\site-packages (from -r requirements.txt (line 6)) (1.23.2)\n",
      "Requirement already satisfied: opencv-python>=4.1.1 in c:\\users\\ebin\\appdata\\local\\programs\\python\\python39\\lib\\site-packages (from -r requirements.txt (line 7)) (4.6.0.66)\n",
      "Requirement already satisfied: Pillow>=7.1.2 in c:\\users\\ebin\\appdata\\local\\programs\\python\\python39\\lib\\site-packages (from -r requirements.txt (line 8)) (9.2.0)\n",
      "Requirement already satisfied: PyYAML>=5.3.1 in c:\\users\\ebin\\appdata\\local\\programs\\python\\python39\\lib\\site-packages (from -r requirements.txt (line 9)) (6.0)\n",
      "Requirement already satisfied: requests>=2.23.0 in c:\\users\\ebin\\appdata\\local\\programs\\python\\python39\\lib\\site-packages (from -r requirements.txt (line 10)) (2.28.1)\n",
      "Requirement already satisfied: scipy>=1.4.1 in c:\\users\\ebin\\appdata\\local\\programs\\python\\python39\\lib\\site-packages (from -r requirements.txt (line 11)) (1.9.1)\n",
      "Requirement already satisfied: torch>=1.7.0 in c:\\users\\ebin\\appdata\\local\\programs\\python\\python39\\lib\\site-packages (from -r requirements.txt (line 12)) (1.12.1)\n",
      "Requirement already satisfied: torchvision>=0.8.1 in c:\\users\\ebin\\appdata\\local\\programs\\python\\python39\\lib\\site-packages (from -r requirements.txt (line 13)) (0.13.1)\n",
      "Requirement already satisfied: tqdm>=4.64.0 in c:\\users\\ebin\\appdata\\local\\programs\\python\\python39\\lib\\site-packages (from -r requirements.txt (line 14)) (4.64.0)\n",
      "Requirement already satisfied: protobuf<=3.20.1 in c:\\users\\ebin\\appdata\\local\\programs\\python\\python39\\lib\\site-packages (from -r requirements.txt (line 15)) (3.19.4)\n",
      "Requirement already satisfied: tensorboard>=2.4.1 in c:\\users\\ebin\\appdata\\local\\programs\\python\\python39\\lib\\site-packages (from -r requirements.txt (line 18)) (2.9.1)\n",
      "Requirement already satisfied: pandas>=1.1.4 in c:\\users\\ebin\\appdata\\local\\programs\\python\\python39\\lib\\site-packages (from -r requirements.txt (line 23)) (1.4.3)\n",
      "Requirement already satisfied: seaborn>=0.11.0 in c:\\users\\ebin\\appdata\\local\\programs\\python\\python39\\lib\\site-packages (from -r requirements.txt (line 24)) (0.11.2)\n",
      "Requirement already satisfied: ipython in c:\\users\\ebin\\appdata\\local\\programs\\python\\python39\\lib\\site-packages (from -r requirements.txt (line 38)) (8.4.0)\n",
      "Requirement already satisfied: psutil in c:\\users\\ebin\\appdata\\local\\programs\\python\\python39\\lib\\site-packages (from -r requirements.txt (line 39)) (5.9.1)\n",
      "Requirement already satisfied: thop>=0.1.1 in c:\\users\\ebin\\appdata\\local\\programs\\python\\python39\\lib\\site-packages (from -r requirements.txt (line 40)) (0.1.1.post2207130030)\n",
      "Requirement already satisfied: packaging>=20.0 in c:\\users\\ebin\\appdata\\local\\programs\\python\\python39\\lib\\site-packages (from matplotlib>=3.2.2->-r requirements.txt (line 5)) (21.3)\n",
      "Requirement already satisfied: kiwisolver>=1.0.1 in c:\\users\\ebin\\appdata\\local\\programs\\python\\python39\\lib\\site-packages (from matplotlib>=3.2.2->-r requirements.txt (line 5)) (1.4.4)\n",
      "Requirement already satisfied: fonttools>=4.22.0 in c:\\users\\ebin\\appdata\\local\\programs\\python\\python39\\lib\\site-packages (from matplotlib>=3.2.2->-r requirements.txt (line 5)) (4.37.1)\n",
      "Requirement already satisfied: pyparsing>=2.2.1 in c:\\users\\ebin\\appdata\\local\\programs\\python\\python39\\lib\\site-packages (from matplotlib>=3.2.2->-r requirements.txt (line 5)) (3.0.9)\n",
      "Requirement already satisfied: python-dateutil>=2.7 in c:\\users\\ebin\\appdata\\local\\programs\\python\\python39\\lib\\site-packages (from matplotlib>=3.2.2->-r requirements.txt (line 5)) (2.8.2)\n",
      "Requirement already satisfied: cycler>=0.10 in c:\\users\\ebin\\appdata\\local\\programs\\python\\python39\\lib\\site-packages (from matplotlib>=3.2.2->-r requirements.txt (line 5)) (0.11.0)\n",
      "Requirement already satisfied: charset-normalizer<3,>=2 in c:\\users\\ebin\\appdata\\local\\programs\\python\\python39\\lib\\site-packages (from requests>=2.23.0->-r requirements.txt (line 10)) (2.1.1)\n",
      "Requirement already satisfied: urllib3<1.27,>=1.21.1 in c:\\users\\ebin\\appdata\\local\\programs\\python\\python39\\lib\\site-packages (from requests>=2.23.0->-r requirements.txt (line 10)) (1.26.12)\n",
      "Requirement already satisfied: certifi>=2017.4.17 in c:\\users\\ebin\\appdata\\local\\programs\\python\\python39\\lib\\site-packages (from requests>=2.23.0->-r requirements.txt (line 10)) (2022.6.15)\n",
      "Requirement already satisfied: idna<4,>=2.5 in c:\\users\\ebin\\appdata\\local\\programs\\python\\python39\\lib\\site-packages (from requests>=2.23.0->-r requirements.txt (line 10)) (3.3)\n",
      "Requirement already satisfied: typing-extensions in c:\\users\\ebin\\appdata\\local\\programs\\python\\python39\\lib\\site-packages (from torch>=1.7.0->-r requirements.txt (line 12)) (4.0.1)\n",
      "Requirement already satisfied: colorama in c:\\users\\ebin\\appdata\\local\\programs\\python\\python39\\lib\\site-packages (from tqdm>=4.64.0->-r requirements.txt (line 14)) (0.4.5)\n",
      "Requirement already satisfied: absl-py>=0.4 in c:\\users\\ebin\\appdata\\local\\programs\\python\\python39\\lib\\site-packages (from tensorboard>=2.4.1->-r requirements.txt (line 18)) (1.2.0)\n",
      "Requirement already satisfied: google-auth<3,>=1.6.3 in c:\\users\\ebin\\appdata\\local\\programs\\python\\python39\\lib\\site-packages (from tensorboard>=2.4.1->-r requirements.txt (line 18)) (2.11.0)\n",
      "Requirement already satisfied: markdown>=2.6.8 in c:\\users\\ebin\\appdata\\local\\programs\\python\\python39\\lib\\site-packages (from tensorboard>=2.4.1->-r requirements.txt (line 18)) (3.4.1)\n",
      "Requirement already satisfied: grpcio>=1.24.3 in c:\\users\\ebin\\appdata\\local\\programs\\python\\python39\\lib\\site-packages (from tensorboard>=2.4.1->-r requirements.txt (line 18)) (1.47.0)\n",
      "Requirement already satisfied: tensorboard-data-server<0.7.0,>=0.6.0 in c:\\users\\ebin\\appdata\\local\\programs\\python\\python39\\lib\\site-packages (from tensorboard>=2.4.1->-r requirements.txt (line 18)) (0.6.1)\n",
      "Requirement already satisfied: tensorboard-plugin-wit>=1.6.0 in c:\\users\\ebin\\appdata\\local\\programs\\python\\python39\\lib\\site-packages (from tensorboard>=2.4.1->-r requirements.txt (line 18)) (1.8.1)\n",
      "Requirement already satisfied: werkzeug>=1.0.1 in c:\\users\\ebin\\appdata\\local\\programs\\python\\python39\\lib\\site-packages (from tensorboard>=2.4.1->-r requirements.txt (line 18)) (2.2.2)\n",
      "Requirement already satisfied: setuptools>=41.0.0 in c:\\users\\ebin\\appdata\\local\\programs\\python\\python39\\lib\\site-packages (from tensorboard>=2.4.1->-r requirements.txt (line 18)) (57.4.0)\n",
      "Requirement already satisfied: google-auth-oauthlib<0.5,>=0.4.1 in c:\\users\\ebin\\appdata\\local\\programs\\python\\python39\\lib\\site-packages (from tensorboard>=2.4.1->-r requirements.txt (line 18)) (0.4.6)\n",
      "Requirement already satisfied: wheel>=0.26 in c:\\users\\ebin\\appdata\\local\\programs\\python\\python39\\lib\\site-packages (from tensorboard>=2.4.1->-r requirements.txt (line 18)) (0.37.1)\n",
      "Requirement already satisfied: pytz>=2020.1 in c:\\users\\ebin\\appdata\\local\\programs\\python\\python39\\lib\\site-packages (from pandas>=1.1.4->-r requirements.txt (line 23)) (2022.2.1)\n",
      "Requirement already satisfied: decorator in c:\\users\\ebin\\appdata\\local\\programs\\python\\python39\\lib\\site-packages (from ipython->-r requirements.txt (line 38)) (5.1.1)\n",
      "Requirement already satisfied: matplotlib-inline in c:\\users\\ebin\\appdata\\local\\programs\\python\\python39\\lib\\site-packages (from ipython->-r requirements.txt (line 38)) (0.1.6)\n",
      "Requirement already satisfied: stack-data in c:\\users\\ebin\\appdata\\local\\programs\\python\\python39\\lib\\site-packages (from ipython->-r requirements.txt (line 38)) (0.4.0)\n",
      "Requirement already satisfied: traitlets>=5 in c:\\users\\ebin\\appdata\\local\\programs\\python\\python39\\lib\\site-packages (from ipython->-r requirements.txt (line 38)) (5.3.0)\n",
      "Requirement already satisfied: prompt-toolkit!=3.0.0,!=3.0.1,<3.1.0,>=2.0.0 in c:\\users\\ebin\\appdata\\local\\programs\\python\\python39\\lib\\site-packages (from ipython->-r requirements.txt (line 38)) (3.0.30)\n",
      "Requirement already satisfied: pickleshare in c:\\users\\ebin\\appdata\\local\\programs\\python\\python39\\lib\\site-packages (from ipython->-r requirements.txt (line 38)) (0.7.5)\n",
      "Requirement already satisfied: pygments>=2.4.0 in c:\\users\\ebin\\appdata\\local\\programs\\python\\python39\\lib\\site-packages (from ipython->-r requirements.txt (line 38)) (2.13.0)\n",
      "Requirement already satisfied: jedi>=0.16 in c:\\users\\ebin\\appdata\\local\\programs\\python\\python39\\lib\\site-packages (from ipython->-r requirements.txt (line 38)) (0.18.1)\n",
      "Requirement already satisfied: backcall in c:\\users\\ebin\\appdata\\local\\programs\\python\\python39\\lib\\site-packages (from ipython->-r requirements.txt (line 38)) (0.2.0)\n",
      "Requirement already satisfied: cachetools<6.0,>=2.0.0 in c:\\users\\ebin\\appdata\\local\\programs\\python\\python39\\lib\\site-packages (from google-auth<3,>=1.6.3->tensorboard>=2.4.1->-r requirements.txt (line 18)) (5.2.0)\n",
      "Requirement already satisfied: pyasn1-modules>=0.2.1 in c:\\users\\ebin\\appdata\\local\\programs\\python\\python39\\lib\\site-packages (from google-auth<3,>=1.6.3->tensorboard>=2.4.1->-r requirements.txt (line 18)) (0.2.8)\n",
      "Requirement already satisfied: six>=1.9.0 in c:\\users\\ebin\\appdata\\local\\programs\\python\\python39\\lib\\site-packages (from google-auth<3,>=1.6.3->tensorboard>=2.4.1->-r requirements.txt (line 18)) (1.16.0)\n",
      "Requirement already satisfied: rsa<5,>=3.1.4 in c:\\users\\ebin\\appdata\\local\\programs\\python\\python39\\lib\\site-packages (from google-auth<3,>=1.6.3->tensorboard>=2.4.1->-r requirements.txt (line 18)) (4.9)\n",
      "Requirement already satisfied: requests-oauthlib>=0.7.0 in c:\\users\\ebin\\appdata\\local\\programs\\python\\python39\\lib\\site-packages (from google-auth-oauthlib<0.5,>=0.4.1->tensorboard>=2.4.1->-r requirements.txt (line 18)) (1.3.1)\n",
      "Requirement already satisfied: parso<0.9.0,>=0.8.0 in c:\\users\\ebin\\appdata\\local\\programs\\python\\python39\\lib\\site-packages (from jedi>=0.16->ipython->-r requirements.txt (line 38)) (0.8.3)\n",
      "Requirement already satisfied: importlib-metadata>=4.4 in c:\\users\\ebin\\appdata\\local\\programs\\python\\python39\\lib\\site-packages (from markdown>=2.6.8->tensorboard>=2.4.1->-r requirements.txt (line 18)) (4.12.0)\n",
      "Requirement already satisfied: wcwidth in c:\\users\\ebin\\appdata\\local\\programs\\python\\python39\\lib\\site-packages (from prompt-toolkit!=3.0.0,!=3.0.1,<3.1.0,>=2.0.0->ipython->-r requirements.txt (line 38)) (0.2.5)\n",
      "Requirement already satisfied: MarkupSafe>=2.1.1 in c:\\users\\ebin\\appdata\\local\\programs\\python\\python39\\lib\\site-packages (from werkzeug>=1.0.1->tensorboard>=2.4.1->-r requirements.txt (line 18)) (2.1.1)\n",
      "Requirement already satisfied: executing in c:\\users\\ebin\\appdata\\local\\programs\\python\\python39\\lib\\site-packages (from stack-data->ipython->-r requirements.txt (line 38)) (0.10.0)\n",
      "Requirement already satisfied: pure-eval in c:\\users\\ebin\\appdata\\local\\programs\\python\\python39\\lib\\site-packages (from stack-data->ipython->-r requirements.txt (line 38)) (0.2.2)\n",
      "Requirement already satisfied: asttokens in c:\\users\\ebin\\appdata\\local\\programs\\python\\python39\\lib\\site-packages (from stack-data->ipython->-r requirements.txt (line 38)) (2.0.8)\n",
      "Requirement already satisfied: zipp>=0.5 in c:\\users\\ebin\\appdata\\local\\programs\\python\\python39\\lib\\site-packages (from importlib-metadata>=4.4->markdown>=2.6.8->tensorboard>=2.4.1->-r requirements.txt (line 18)) (3.8.1)\n",
      "Requirement already satisfied: pyasn1<0.5.0,>=0.4.6 in c:\\users\\ebin\\appdata\\local\\programs\\python\\python39\\lib\\site-packages (from pyasn1-modules>=0.2.1->google-auth<3,>=1.6.3->tensorboard>=2.4.1->-r requirements.txt (line 18)) (0.4.8)\n",
      "Requirement already satisfied: oauthlib>=3.0.0 in c:\\users\\ebin\\appdata\\local\\programs\\python\\python39\\lib\\site-packages (from requests-oauthlib>=0.7.0->google-auth-oauthlib<0.5,>=0.4.1->tensorboard>=2.4.1->-r requirements.txt (line 18)) (3.2.0)\n",
      "Requirement already satisfied: tensorflow in c:\\users\\ebin\\appdata\\local\\programs\\python\\python39\\lib\\site-packages (2.9.1)\n",
      "Requirement already satisfied: opt-einsum>=2.3.2 in c:\\users\\ebin\\appdata\\local\\programs\\python\\python39\\lib\\site-packages (from tensorflow) (3.3.0)\n",
      "Requirement already satisfied: tensorflow-estimator<2.10.0,>=2.9.0rc0 in c:\\users\\ebin\\appdata\\local\\programs\\python\\python39\\lib\\site-packages (from tensorflow) (2.9.0)\n",
      "Requirement already satisfied: wrapt>=1.11.0 in c:\\users\\ebin\\appdata\\local\\programs\\python\\python39\\lib\\site-packages (from tensorflow) (1.14.1)\n",
      "Requirement already satisfied: libclang>=13.0.0 in c:\\users\\ebin\\appdata\\local\\programs\\python\\python39\\lib\\site-packages (from tensorflow) (14.0.6)\n",
      "Requirement already satisfied: keras<2.10.0,>=2.9.0rc0 in c:\\users\\ebin\\appdata\\local\\programs\\python\\python39\\lib\\site-packages (from tensorflow) (2.9.0)\n",
      "Requirement already satisfied: setuptools in c:\\users\\ebin\\appdata\\local\\programs\\python\\python39\\lib\\site-packages (from tensorflow) (57.4.0)\n",
      "Requirement already satisfied: gast<=0.4.0,>=0.2.1 in c:\\users\\ebin\\appdata\\local\\programs\\python\\python39\\lib\\site-packages (from tensorflow) (0.4.0)\n",
      "Requirement already satisfied: grpcio<2.0,>=1.24.3 in c:\\users\\ebin\\appdata\\local\\programs\\python\\python39\\lib\\site-packages (from tensorflow) (1.47.0)\n",
      "Requirement already satisfied: keras-preprocessing>=1.1.1 in c:\\users\\ebin\\appdata\\local\\programs\\python\\python39\\lib\\site-packages (from tensorflow) (1.1.2)\n",
      "Requirement already satisfied: tensorboard<2.10,>=2.9 in c:\\users\\ebin\\appdata\\local\\programs\\python\\python39\\lib\\site-packages (from tensorflow) (2.9.1)\n",
      "Requirement already satisfied: google-pasta>=0.1.1 in c:\\users\\ebin\\appdata\\local\\programs\\python\\python39\\lib\\site-packages (from tensorflow) (0.2.0)\n",
      "Requirement already satisfied: tensorflow-io-gcs-filesystem>=0.23.1 in c:\\users\\ebin\\appdata\\local\\programs\\python\\python39\\lib\\site-packages (from tensorflow) (0.26.0)\n",
      "Requirement already satisfied: six>=1.12.0 in c:\\users\\ebin\\appdata\\local\\programs\\python\\python39\\lib\\site-packages (from tensorflow) (1.16.0)\n",
      "Requirement already satisfied: packaging in c:\\users\\ebin\\appdata\\local\\programs\\python\\python39\\lib\\site-packages (from tensorflow) (21.3)\n",
      "Requirement already satisfied: termcolor>=1.1.0 in c:\\users\\ebin\\appdata\\local\\programs\\python\\python39\\lib\\site-packages (from tensorflow) (1.1.0)\n",
      "Requirement already satisfied: astunparse>=1.6.0 in c:\\users\\ebin\\appdata\\local\\programs\\python\\python39\\lib\\site-packages (from tensorflow) (1.6.3)\n",
      "Requirement already satisfied: h5py>=2.9.0 in c:\\users\\ebin\\appdata\\local\\programs\\python\\python39\\lib\\site-packages (from tensorflow) (3.7.0)\n",
      "Requirement already satisfied: numpy>=1.20 in c:\\users\\ebin\\appdata\\local\\programs\\python\\python39\\lib\\site-packages (from tensorflow) (1.23.2)\n",
      "Requirement already satisfied: protobuf<3.20,>=3.9.2 in c:\\users\\ebin\\appdata\\local\\programs\\python\\python39\\lib\\site-packages (from tensorflow) (3.19.4)\n",
      "Requirement already satisfied: typing-extensions>=3.6.6 in c:\\users\\ebin\\appdata\\local\\programs\\python\\python39\\lib\\site-packages (from tensorflow) (4.0.1)\n",
      "Requirement already satisfied: flatbuffers<2,>=1.12 in c:\\users\\ebin\\appdata\\local\\programs\\python\\python39\\lib\\site-packages (from tensorflow) (1.12)\n",
      "Requirement already satisfied: absl-py>=1.0.0 in c:\\users\\ebin\\appdata\\local\\programs\\python\\python39\\lib\\site-packages (from tensorflow) (1.2.0)\n",
      "Requirement already satisfied: wheel<1.0,>=0.23.0 in c:\\users\\ebin\\appdata\\local\\programs\\python\\python39\\lib\\site-packages (from astunparse>=1.6.0->tensorflow) (0.37.1)\n",
      "Requirement already satisfied: tensorboard-data-server<0.7.0,>=0.6.0 in c:\\users\\ebin\\appdata\\local\\programs\\python\\python39\\lib\\site-packages (from tensorboard<2.10,>=2.9->tensorflow) (0.6.1)\n",
      "Requirement already satisfied: tensorboard-plugin-wit>=1.6.0 in c:\\users\\ebin\\appdata\\local\\programs\\python\\python39\\lib\\site-packages (from tensorboard<2.10,>=2.9->tensorflow) (1.8.1)\n",
      "Requirement already satisfied: requests<3,>=2.21.0 in c:\\users\\ebin\\appdata\\local\\programs\\python\\python39\\lib\\site-packages (from tensorboard<2.10,>=2.9->tensorflow) (2.28.1)\n",
      "Requirement already satisfied: google-auth-oauthlib<0.5,>=0.4.1 in c:\\users\\ebin\\appdata\\local\\programs\\python\\python39\\lib\\site-packages (from tensorboard<2.10,>=2.9->tensorflow) (0.4.6)\n",
      "Requirement already satisfied: google-auth<3,>=1.6.3 in c:\\users\\ebin\\appdata\\local\\programs\\python\\python39\\lib\\site-packages (from tensorboard<2.10,>=2.9->tensorflow) (2.11.0)\n",
      "Requirement already satisfied: markdown>=2.6.8 in c:\\users\\ebin\\appdata\\local\\programs\\python\\python39\\lib\\site-packages (from tensorboard<2.10,>=2.9->tensorflow) (3.4.1)\n",
      "Requirement already satisfied: werkzeug>=1.0.1 in c:\\users\\ebin\\appdata\\local\\programs\\python\\python39\\lib\\site-packages (from tensorboard<2.10,>=2.9->tensorflow) (2.2.2)\n",
      "Requirement already satisfied: pyparsing!=3.0.5,>=2.0.2 in c:\\users\\ebin\\appdata\\local\\programs\\python\\python39\\lib\\site-packages (from packaging->tensorflow) (3.0.9)\n",
      "Requirement already satisfied: rsa<5,>=3.1.4 in c:\\users\\ebin\\appdata\\local\\programs\\python\\python39\\lib\\site-packages (from google-auth<3,>=1.6.3->tensorboard<2.10,>=2.9->tensorflow) (4.9)\n",
      "Requirement already satisfied: cachetools<6.0,>=2.0.0 in c:\\users\\ebin\\appdata\\local\\programs\\python\\python39\\lib\\site-packages (from google-auth<3,>=1.6.3->tensorboard<2.10,>=2.9->tensorflow) (5.2.0)\n",
      "Requirement already satisfied: pyasn1-modules>=0.2.1 in c:\\users\\ebin\\appdata\\local\\programs\\python\\python39\\lib\\site-packages (from google-auth<3,>=1.6.3->tensorboard<2.10,>=2.9->tensorflow) (0.2.8)\n",
      "Requirement already satisfied: requests-oauthlib>=0.7.0 in c:\\users\\ebin\\appdata\\local\\programs\\python\\python39\\lib\\site-packages (from google-auth-oauthlib<0.5,>=0.4.1->tensorboard<2.10,>=2.9->tensorflow) (1.3.1)\n",
      "Requirement already satisfied: importlib-metadata>=4.4 in c:\\users\\ebin\\appdata\\local\\programs\\python\\python39\\lib\\site-packages (from markdown>=2.6.8->tensorboard<2.10,>=2.9->tensorflow) (4.12.0)\n",
      "Requirement already satisfied: certifi>=2017.4.17 in c:\\users\\ebin\\appdata\\local\\programs\\python\\python39\\lib\\site-packages (from requests<3,>=2.21.0->tensorboard<2.10,>=2.9->tensorflow) (2022.6.15)\n",
      "Requirement already satisfied: charset-normalizer<3,>=2 in c:\\users\\ebin\\appdata\\local\\programs\\python\\python39\\lib\\site-packages (from requests<3,>=2.21.0->tensorboard<2.10,>=2.9->tensorflow) (2.1.1)\n",
      "Requirement already satisfied: urllib3<1.27,>=1.21.1 in c:\\users\\ebin\\appdata\\local\\programs\\python\\python39\\lib\\site-packages (from requests<3,>=2.21.0->tensorboard<2.10,>=2.9->tensorflow) (1.26.12)\n",
      "Requirement already satisfied: idna<4,>=2.5 in c:\\users\\ebin\\appdata\\local\\programs\\python\\python39\\lib\\site-packages (from requests<3,>=2.21.0->tensorboard<2.10,>=2.9->tensorflow) (3.3)\n",
      "Requirement already satisfied: MarkupSafe>=2.1.1 in c:\\users\\ebin\\appdata\\local\\programs\\python\\python39\\lib\\site-packages (from werkzeug>=1.0.1->tensorboard<2.10,>=2.9->tensorflow) (2.1.1)\n",
      "Requirement already satisfied: zipp>=0.5 in c:\\users\\ebin\\appdata\\local\\programs\\python\\python39\\lib\\site-packages (from importlib-metadata>=4.4->markdown>=2.6.8->tensorboard<2.10,>=2.9->tensorflow) (3.8.1)\n",
      "Requirement already satisfied: pyasn1<0.5.0,>=0.4.6 in c:\\users\\ebin\\appdata\\local\\programs\\python\\python39\\lib\\site-packages (from pyasn1-modules>=0.2.1->google-auth<3,>=1.6.3->tensorboard<2.10,>=2.9->tensorflow) (0.4.8)\n",
      "Requirement already satisfied: oauthlib>=3.0.0 in c:\\users\\ebin\\appdata\\local\\programs\\python\\python39\\lib\\site-packages (from requests-oauthlib>=0.7.0->google-auth-oauthlib<0.5,>=0.4.1->tensorboard<2.10,>=2.9->tensorflow) (3.2.0)\n",
      "All set. Using PyTorch version 1.12.1+cpu with CPU\n"
     ]
    }
   ],
   "source": [
    "!pip install -r requirements.txt\n",
    "!pip install tensorflow \n",
    "print('All set. Using PyTorch version %s with %s' % (torch.__version__, torch.cuda.get_device_properties(0) if torch.cuda.is_available() else 'CPU'))"
   ]
  },
  {
   "cell_type": "code",
   "execution_count": 41,
   "metadata": {},
   "outputs": [
    {
     "name": "stdout",
     "output_type": "stream",
     "text": [
      "ClearML Task: overwriting (reusing) task id=0d7acb2f344a4d9084b2fc2905ab96ce"
     ]
    },
    {
     "name": "stderr",
     "output_type": "stream",
     "text": [
      "\u001b[34m\u001b[1mtrain: \u001b[0mweights=yolov5s.pt, cfg=models/yolov5s.yaml, data=C:/Users/EBIN/OneDrive/Documents/GitHub/Face_mask_detection/dataset.yaml, hyp=data\\hyps\\hyp.scratch-low.yaml, epochs=30, batch_size=16, imgsz=415, rect=False, resume=False, nosave=False, noval=False, noautoanchor=False, noplots=False, evolve=None, bucket=, cache=ram, image_weights=False, device=, multi_scale=False, single_cls=False, optimizer=SGD, sync_bn=False, workers=8, project=runs\\train, name=exp, exist_ok=False, quad=False, cos_lr=False, label_smoothing=0.0, patience=100, freeze=[0], save_period=-1, seed=0, local_rank=-1, entity=None, upload_dataset=False, bbox_interval=-1, artifact_alias=latest\n",
      "\u001b[34m\u001b[1mgithub: \u001b[0mup to date with https://github.com/ultralytics/yolov5 \n",
      "YOLOv5  v6.2-61-gffbce38 Python-3.9.7 torch-1.12.1+cpu CPU\n",
      "\n",
      "\u001b[34m\u001b[1mhyperparameters: \u001b[0mlr0=0.01, lrf=0.01, momentum=0.937, weight_decay=0.0005, warmup_epochs=3.0, warmup_momentum=0.8, warmup_bias_lr=0.1, box=0.05, cls=0.5, cls_pw=1.0, obj=1.0, obj_pw=1.0, iou_t=0.2, anchor_t=4.0, fl_gamma=0.0, hsv_h=0.015, hsv_s=0.7, hsv_v=0.4, degrees=0.0, translate=0.1, scale=0.5, shear=0.0, perspective=0.0, flipud=0.0, fliplr=0.5, mosaic=1.0, mixup=0.0, copy_paste=0.0\n",
      "\u001b[34m\u001b[1mWeights & Biases: \u001b[0mrun 'pip install wandb' to automatically track and visualize YOLOv5  runs in Weights & Biases\n",
      "\u001b[34m\u001b[1mTensorBoard: \u001b[0mStart with 'tensorboard --logdir runs\\train', view at http://localhost:6006/\n",
      "2022-08-28 21:28:59.461835: W tensorflow/stream_executor/platform/default/dso_loader.cc:64] Could not load dynamic library 'cudart64_110.dll'; dlerror: cudart64_110.dll not found\n",
      "2022-08-28 21:28:59.462033: I tensorflow/stream_executor/cuda/cudart_stub.cc:29] Ignore above cudart dlerror if you do not have a GPU set up on your machine.\n",
      "Overriding model.yaml nc=80 with nc=2\n",
      "\n",
      "                 from  n    params  module                                  arguments                     \n",
      "  0                -1  1      3520  models.common.Conv                      [3, 32, 6, 2, 2]              \n",
      "  1                -1  1     18560  models.common.Conv                      [32, 64, 3, 2]                \n",
      "  2                -1  1     18816  models.common.C3                        [64, 64, 1]                   \n",
      "  3                -1  1     73984  models.common.Conv                      [64, 128, 3, 2]               \n",
      "  4                -1  2    115712  models.common.C3                        [128, 128, 2]                 \n",
      "  5                -1  1    295424  models.common.Conv                      [128, 256, 3, 2]              \n",
      "  6                -1  3    625152  models.common.C3                        [256, 256, 3]                 \n",
      "  7                -1  1   1180672  models.common.Conv                      [256, 512, 3, 2]              \n",
      "  8                -1  1   1182720  models.common.C3                        [512, 512, 1]                 \n",
      "  9                -1  1    656896  models.common.SPPF                      [512, 512, 5]                 \n",
      " 10                -1  1    131584  models.common.Conv                      [512, 256, 1, 1]              \n",
      " 11                -1  1         0  torch.nn.modules.upsampling.Upsample    [None, 2, 'nearest']          \n",
      " 12           [-1, 6]  1         0  models.common.Concat                    [1]                           \n",
      " 13                -1  1    361984  models.common.C3                        [512, 256, 1, False]          \n",
      " 14                -1  1     33024  models.common.Conv                      [256, 128, 1, 1]              \n",
      " 15                -1  1         0  torch.nn.modules.upsampling.Upsample    [None, 2, 'nearest']          \n",
      " 16           [-1, 4]  1         0  models.common.Concat                    [1]                           \n",
      " 17                -1  1     90880  models.common.C3                        [256, 128, 1, False]          \n",
      " 18                -1  1    147712  models.common.Conv                      [128, 128, 3, 2]              \n",
      " 19          [-1, 14]  1         0  models.common.Concat                    [1]                           \n",
      " 20                -1  1    296448  models.common.C3                        [256, 256, 1, False]          \n",
      " 21                -1  1    590336  models.common.Conv                      [256, 256, 3, 2]              \n",
      " 22          [-1, 10]  1         0  models.common.Concat                    [1]                           \n",
      " 23                -1  1   1182720  models.common.C3                        [512, 512, 1, False]          \n",
      " 24      [17, 20, 23]  1     18879  models.yolo.Detect                      [2, [[10, 13, 16, 30, 33, 23], [30, 61, 62, 45, 59, 119], [116, 90, 156, 198, 373, 326]], [128, 256, 512]]\n",
      "YOLOv5s summary: 270 layers, 7025023 parameters, 7025023 gradients, 16.0 GFLOPs\n",
      "\n",
      "Transferred 342/349 items from yolov5s.pt\n",
      "WARNING: --img-size 415 must be multiple of max stride 32, updating to 416\n",
      "\u001b[34m\u001b[1moptimizer:\u001b[0m SGD(lr=0.01) with parameter groups 57 weight(decay=0.0), 60 weight(decay=0.0005), 60 bias\n",
      "\n",
      "\u001b[34m\u001b[1mtrain: \u001b[0mScanning 'C:\\Users\\EBIN\\OneDrive\\Documents\\GitHub\\Face_mask_detection\\yolov5\\yolov5\\yolov5\\labels\\train' images and labels...:   0%|          | 0/700 [00:00<?, ?it/s]\n",
      "\u001b[34m\u001b[1mtrain: \u001b[0mScanning 'C:\\Users\\EBIN\\OneDrive\\Documents\\GitHub\\Face_mask_detection\\yolov5\\yolov5\\yolov5\\labels\\train' images and labels...0 found, 1 missing, 0 empty, 0 corrupt:   0%|          | 1/700 [00:16<3:07:15, 16.07s/it]\n",
      "\u001b[34m\u001b[1mtrain: \u001b[0mScanning 'C:\\Users\\EBIN\\OneDrive\\Documents\\GitHub\\Face_mask_detection\\yolov5\\yolov5\\yolov5\\labels\\train' images and labels...0 found, 40 missing, 0 empty, 0 corrupt:   6%|▌         | 40/700 [00:16<03:08,  3.50it/s]\n",
      "\u001b[34m\u001b[1mtrain: \u001b[0mScanning 'C:\\Users\\EBIN\\OneDrive\\Documents\\GitHub\\Face_mask_detection\\yolov5\\yolov5\\yolov5\\labels\\train' images and labels...0 found, 79 missing, 0 empty, 0 corrupt:  11%|█▏        | 79/700 [00:16<01:14,  8.30it/s]\n",
      "\u001b[34m\u001b[1mtrain: \u001b[0mScanning 'C:\\Users\\EBIN\\OneDrive\\Documents\\GitHub\\Face_mask_detection\\yolov5\\yolov5\\yolov5\\labels\\train' images and labels...0 found, 118 missing, 0 empty, 0 corrupt:  17%|█▋        | 118/700 [00:16<00:39, 14.86it/s]\n",
      "\u001b[34m\u001b[1mtrain: \u001b[0mScanning 'C:\\Users\\EBIN\\OneDrive\\Documents\\GitHub\\Face_mask_detection\\yolov5\\yolov5\\yolov5\\labels\\train' images and labels...0 found, 152 missing, 0 empty, 0 corrupt:  22%|██▏       | 152/700 [00:16<00:25, 21.67it/s]\n",
      "\u001b[34m\u001b[1mtrain: \u001b[0mScanning 'C:\\Users\\EBIN\\OneDrive\\Documents\\GitHub\\Face_mask_detection\\yolov5\\yolov5\\yolov5\\labels\\train' images and labels...0 found, 196 missing, 0 empty, 0 corrupt:  28%|██▊       | 196/700 [00:16<00:14, 34.96it/s]\n",
      "\u001b[34m\u001b[1mtrain: \u001b[0mScanning 'C:\\Users\\EBIN\\OneDrive\\Documents\\GitHub\\Face_mask_detection\\yolov5\\yolov5\\yolov5\\labels\\train' images and labels...0 found, 228 missing, 0 empty, 0 corrupt:  33%|███▎      | 228/700 [00:16<00:10, 46.93it/s]\n",
      "\u001b[34m\u001b[1mtrain: \u001b[0mScanning 'C:\\Users\\EBIN\\OneDrive\\Documents\\GitHub\\Face_mask_detection\\yolov5\\yolov5\\yolov5\\labels\\train' images and labels...0 found, 258 missing, 0 empty, 0 corrupt:  37%|███▋      | 258/700 [00:17<00:07, 61.33it/s]\n",
      "\u001b[34m\u001b[1mtrain: \u001b[0mScanning 'C:\\Users\\EBIN\\OneDrive\\Documents\\GitHub\\Face_mask_detection\\yolov5\\yolov5\\yolov5\\labels\\train' images and labels...0 found, 293 missing, 0 empty, 0 corrupt:  42%|████▏     | 293/700 [00:17<00:04, 83.32it/s]\n",
      "\u001b[34m\u001b[1mtrain: \u001b[0mScanning 'C:\\Users\\EBIN\\OneDrive\\Documents\\GitHub\\Face_mask_detection\\yolov5\\yolov5\\yolov5\\labels\\train' images and labels...0 found, 330 missing, 0 empty, 0 corrupt:  47%|████▋     | 330/700 [00:17<00:03, 111.36it/s]\n",
      "\u001b[34m\u001b[1mtrain: \u001b[0mScanning 'C:\\Users\\EBIN\\OneDrive\\Documents\\GitHub\\Face_mask_detection\\yolov5\\yolov5\\yolov5\\labels\\train' images and labels...0 found, 367 missing, 0 empty, 0 corrupt:  52%|█████▏    | 367/700 [00:17<00:02, 143.03it/s]\n",
      "\u001b[34m\u001b[1mtrain: \u001b[0mScanning 'C:\\Users\\EBIN\\OneDrive\\Documents\\GitHub\\Face_mask_detection\\yolov5\\yolov5\\yolov5\\labels\\train' images and labels...0 found, 401 missing, 0 empty, 0 corrupt:  57%|█████▋    | 401/700 [00:17<00:01, 170.23it/s]\n",
      "\u001b[34m\u001b[1mtrain: \u001b[0mScanning 'C:\\Users\\EBIN\\OneDrive\\Documents\\GitHub\\Face_mask_detection\\yolov5\\yolov5\\yolov5\\labels\\train' images and labels...0 found, 439 missing, 0 empty, 0 corrupt:  63%|██████▎   | 439/700 [00:17<00:01, 205.70it/s]\n",
      "\u001b[34m\u001b[1mtrain: \u001b[0mScanning 'C:\\Users\\EBIN\\OneDrive\\Documents\\GitHub\\Face_mask_detection\\yolov5\\yolov5\\yolov5\\labels\\train' images and labels...0 found, 476 missing, 0 empty, 0 corrupt:  68%|██████▊   | 476/700 [00:17<00:00, 236.23it/s]\n",
      "\u001b[34m\u001b[1mtrain: \u001b[0mScanning 'C:\\Users\\EBIN\\OneDrive\\Documents\\GitHub\\Face_mask_detection\\yolov5\\yolov5\\yolov5\\labels\\train' images and labels...0 found, 512 missing, 0 empty, 0 corrupt:  73%|███████▎  | 512/700 [00:17<00:00, 262.96it/s]\n",
      "\u001b[34m\u001b[1mtrain: \u001b[0mScanning 'C:\\Users\\EBIN\\OneDrive\\Documents\\GitHub\\Face_mask_detection\\yolov5\\yolov5\\yolov5\\labels\\train' images and labels...0 found, 548 missing, 0 empty, 0 corrupt:  78%|███████▊  | 548/700 [00:17<00:00, 285.73it/s]\n",
      "\u001b[34m\u001b[1mtrain: \u001b[0mScanning 'C:\\Users\\EBIN\\OneDrive\\Documents\\GitHub\\Face_mask_detection\\yolov5\\yolov5\\yolov5\\labels\\train' images and labels...0 found, 586 missing, 0 empty, 0 corrupt:  84%|████████▎ | 586/700 [00:17<00:00, 308.90it/s]\n",
      "\u001b[34m\u001b[1mtrain: \u001b[0mScanning 'C:\\Users\\EBIN\\OneDrive\\Documents\\GitHub\\Face_mask_detection\\yolov5\\yolov5\\yolov5\\labels\\train' images and labels...0 found, 622 missing, 0 empty, 0 corrupt:  89%|████████▉ | 622/700 [00:18<00:00, 202.61it/s]\n",
      "\u001b[34m\u001b[1mtrain: \u001b[0mScanning 'C:\\Users\\EBIN\\OneDrive\\Documents\\GitHub\\Face_mask_detection\\yolov5\\yolov5\\yolov5\\labels\\train' images and labels...0 found, 700 missing, 0 empty, 0 corrupt: 100%|██████████| 700/700 [00:18<00:00, 38.27it/s] \n",
      "\u001b[34m\u001b[1mtrain: \u001b[0mWARNING: No labels found in C:\\Users\\EBIN\\OneDrive\\Documents\\GitHub\\Face_mask_detection\\yolov5\\yolov5\\yolov5\\labels\\train.cache. See https://github.com/ultralytics/yolov5/wiki/Train-Custom-Data\n",
      "\u001b[34m\u001b[1mtrain: \u001b[0mNew cache created: C:\\Users\\EBIN\\OneDrive\\Documents\\GitHub\\Face_mask_detection\\yolov5\\yolov5\\yolov5\\labels\\train.cache\n",
      "Traceback (most recent call last):\n",
      "  File \"c:\\Users\\EBIN\\OneDrive\\Documents\\GitHub\\Face_mask_detection\\yolov5\\yolov5\\yolov5\\train.py\", line 630, in <module>\n",
      "    main(opt)\n",
      "  File \"c:\\Users\\EBIN\\OneDrive\\Documents\\GitHub\\Face_mask_detection\\yolov5\\yolov5\\yolov5\\train.py\", line 526, in main\n",
      "    train(opt.hyp, opt, device, callbacks)\n",
      "  File \"c:\\Users\\EBIN\\OneDrive\\Documents\\GitHub\\Face_mask_detection\\yolov5\\yolov5\\yolov5\\train.py\", line 186, in train\n",
      "    train_loader, dataset = create_dataloader(train_path,\n",
      "  File \"c:\\Users\\EBIN\\OneDrive\\Documents\\GitHub\\Face_mask_detection\\yolov5\\yolov5\\yolov5\\utils\\dataloaders.py\", line 121, in create_dataloader\n",
      "    dataset = LoadImagesAndLabels(\n",
      "  File \"c:\\Users\\EBIN\\OneDrive\\Documents\\GitHub\\Face_mask_detection\\yolov5\\yolov5\\yolov5\\utils\\dataloaders.py\", line 474, in __init__\n",
      "    assert nf > 0 or not augment, f'{prefix}No labels found in {cache_path}, can not start training. {HELP_URL}'\n",
      "AssertionError: \u001b[34m\u001b[1mtrain: \u001b[0mNo labels found in C:\\Users\\EBIN\\OneDrive\\Documents\\GitHub\\Face_mask_detection\\yolov5\\yolov5\\yolov5\\labels\\train.cache, can not start training. See https://github.com/ultralytics/yolov5/wiki/Train-Custom-Data\n"
     ]
    },
    {
     "name": "stdout",
     "output_type": "stream",
     "text": [
      "\n",
      "ClearML results page: https://app.clear.ml/projects/4131616359634217b0f6bbc28f73a242/experiments/0d7acb2f344a4d9084b2fc2905ab96ce/output/log\n",
      "ClearML Monitor: GPU monitoring failed getting GPU reading, switching off GPU monitoring\n"
     ]
    }
   ],
   "source": [
    "#%cd yolov5\n",
    "!python train.py --img 415 --batch 16 --epochs 30 --data C:/Users/EBIN/OneDrive/Documents/GitHub/Face_mask_detection/dataset.yaml --weights yolov5s.pt --cfg models/yolov5s.yaml --cache "
   ]
  }
 ],
 "metadata": {
  "kernelspec": {
   "display_name": "Python 3.9.7 64-bit",
   "language": "python",
   "name": "python3"
  },
  "language_info": {
   "codemirror_mode": {
    "name": "ipython",
    "version": 3
   },
   "file_extension": ".py",
   "mimetype": "text/x-python",
   "name": "python",
   "nbconvert_exporter": "python",
   "pygments_lexer": "ipython3",
   "version": "3.9.7"
  },
  "orig_nbformat": 4,
  "vscode": {
   "interpreter": {
    "hash": "5be68d05c0a37fd7c0a0af3cf8ce1676254933d508887bcf3607e1d92fa924d8"
   }
  }
 },
 "nbformat": 4,
 "nbformat_minor": 2
}
